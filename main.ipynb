{
 "cells": [
  {
   "cell_type": "markdown",
   "id": "e53deead",
   "metadata": {},
   "source": [
    "# Regressão Linear com Python\n",
    "*Objetivo:* Codar um programa que faça a regressão linear dos dados do trabalho de quimica.\n",
    "\n",
    "## Funcionalidades\n",
    "- Processar os dados\n",
    "- Determinar o coeficiente angular aproximado da reta\n",
    "- Determinar o coeficiente linear aproximado da reta\n",
    "- Determinar o coeficiente de determinação\n",
    "- Plotar o gráfico de calibração\n",
    "- Fazer novas previsões baseados nos dados anteriores\n",
    "\n",
    "## Observações\n",
    "- Tem um macaco detalhado no grupo, caso necessário.\n",
    "- Em caso de dúvidas, procure o Capitão Planeta."
   ]
  },
  {
   "cell_type": "code",
   "execution_count": 82,
   "id": "4fc65a13",
   "metadata": {},
   "outputs": [],
   "source": [
    "#Importar bibliotecas\n",
    "\n",
    "import matplotlib.pyplot as plt\n",
    "import numpy as np\n",
    "from sklearn.linear_model import LinearRegression\n",
    "import math"
   ]
  },
  {
   "cell_type": "code",
   "execution_count": null,
   "id": "24a5da30",
   "metadata": {},
   "outputs": [],
   "source": [
    "#Digite aqui o resultado de seus experimentos\n",
    "\n",
    "a1 = \n",
    "a2 = \n",
    "a3 = \n",
    "a4 = \n",
    "a5 = \n",
    "\n",
    "amostra_desconhecida = "
   ]
  },
  {
   "cell_type": "code",
   "execution_count": 84,
   "id": "b30858fe",
   "metadata": {},
   "outputs": [],
   "source": [
    "#Processamento de dados\n",
    "\n",
    "x = np.array([0.005, 0.01, 0.02, 0.04, 0.05]).reshape((-1, 1))\n",
    "y = np.array([a1, a2, a3, a4, a5])"
   ]
  },
  {
   "cell_type": "code",
   "execution_count": null,
   "id": "55e7da5a",
   "metadata": {},
   "outputs": [],
   "source": [
    "#Criar o modelo de regressão linear\n",
    "\n",
    "modelo = LinearRegression()\n",
    "modelo.fit(x,y)"
   ]
  },
  {
   "cell_type": "code",
   "execution_count": null,
   "id": "dbf1e97a",
   "metadata": {},
   "outputs": [],
   "source": [
    "#Apresentação dos dados\n",
    "\n",
    "coef_angular = modelo.coef_\n",
    "coef_linear = modelo.intercept_\n",
    "coef_detrm = math.sqrt(modelo.score(x, y))\n",
    "conc_desconhecida = (amostra_desconhecida)/coef_angular[0]\n",
    "\n",
    "print(f\"Coeficiente ângular: a = {coef_angular[0]}\")\n",
    "print(f\"Coeficiente linear: b = {coef_linear}\")\n",
    "print(f\"Coeficiente de determinação: r = {coef_detrm}\")\n",
    "\n",
    "print(\"\\n(Observação: Quanto mais r chegar perto de 1, melhor foi seu experimento)\")\n",
    "\n",
    "print(f\"\\nConcentração desconhecida: {conc_desconhecida}\")"
   ]
  },
  {
   "cell_type": "code",
   "execution_count": null,
   "id": "9f473c3a",
   "metadata": {},
   "outputs": [],
   "source": [
    "# Gráfico de calibração\n",
    "\n",
    "def linha(a):\n",
    "    return coef_angular*a+coef_linear\n",
    "\n",
    "grafico_calibracao = list(map(linha, x))\n",
    "\n",
    "plt.xlabel(\"Concentração (mol/L)\")\n",
    "plt.ylabel(\"Absorvância\")\n",
    "\n",
    "plt.scatter(x, y)\n",
    "plt.plot(x, grafico_calibracao)\n",
    "plt.show()"
   ]
  }
 ],
 "metadata": {
  "kernelspec": {
   "display_name": ".venv",
   "language": "python",
   "name": "python3"
  },
  "language_info": {
   "codemirror_mode": {
    "name": "ipython",
    "version": 3
   },
   "file_extension": ".py",
   "mimetype": "text/x-python",
   "name": "python",
   "nbconvert_exporter": "python",
   "pygments_lexer": "ipython3",
   "version": "3.13.3"
  }
 },
 "nbformat": 4,
 "nbformat_minor": 5
}
